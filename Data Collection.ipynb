{
 "cells": [
  {
   "cell_type": "markdown",
   "id": "82860191",
   "metadata": {},
   "source": [
    "# Imports"
   ]
  },
  {
   "cell_type": "code",
   "execution_count": 1,
   "id": "379c3f2f",
   "metadata": {},
   "outputs": [],
   "source": [
    "import cv2 as cv\n",
    "import uuid\n",
    "import time\n",
    "import os\n",
    "import re"
   ]
  },
  {
   "cell_type": "code",
   "execution_count": 2,
   "id": "d7f04c84",
   "metadata": {},
   "outputs": [],
   "source": [
    "## Paths\n",
    "\n",
    "image_path = r\"C:\\Users\\abhin\\Data Science\\RealTimeObjectDetection\\Tensorflow\\workspace\\images\\collectedimages\"\n"
   ]
  },
  {
   "cell_type": "code",
   "execution_count": 3,
   "id": "fad4635e",
   "metadata": {},
   "outputs": [
    {
     "name": "stdout",
     "output_type": "stream",
     "text": [
      "Collected Images Created\n"
     ]
    }
   ],
   "source": [
    "if os.path.isdir(image_path):\n",
    "    pass\n",
    "else:\n",
    "    os.mkdir(image_path)\n",
    "print(\"Collected Images Created\")"
   ]
  },
  {
   "cell_type": "code",
   "execution_count": 4,
   "id": "4a967a67",
   "metadata": {},
   "outputs": [],
   "source": [
    "## Defined labels\n",
    "labels = ['hello','thanks','yes','no','iloveyou','help','sorry','please','cat','learn']\n",
    "\n",
    "number_imgs = 15"
   ]
  },
  {
   "cell_type": "code",
   "execution_count": null,
   "id": "6ec907dc",
   "metadata": {},
   "outputs": [
    {
     "name": "stdout",
     "output_type": "stream",
     "text": [
      "Collecting images for help press any key to continue:l\n",
      "Collecting images for help\n"
     ]
    }
   ],
   "source": [
    "for label in labels[5:6]:\n",
    "    input(f'Collecting images for {label} press any key to continue:')\n",
    "    !mkdir {'Tensorflow\\\\workspace\\\\images\\\\collectedimages\\\\'+label}\n",
    "    cap = cv.VideoCapture(0)\n",
    "    print(f\"Collecting images for {label}\")\n",
    "    time.sleep(15)\n",
    "    for img in range(number_imgs):\n",
    "        ret,frame = cap.read()\n",
    "        imagename = os.path.join(image_path,label,label+'.'+'{}.jpg'.format(str(uuid.uuid1())))\n",
    "        cv.imwrite(imagename,frame)\n",
    "        cv.imshow(\"frame\",frame)\n",
    "        time.sleep(10)\n",
    "        \n",
    "        if cv.waitKey(1) & 0xFF == ord('q'):\n",
    "            break\n",
    "    cap.release()\n",
    "        "
   ]
  },
  {
   "cell_type": "code",
   "execution_count": null,
   "id": "b847d4b3",
   "metadata": {},
   "outputs": [],
   "source": []
  }
 ],
 "metadata": {
  "kernelspec": {
   "display_name": "Python 3 (ipykernel)",
   "language": "python",
   "name": "python3"
  },
  "language_info": {
   "codemirror_mode": {
    "name": "ipython",
    "version": 3
   },
   "file_extension": ".py",
   "mimetype": "text/x-python",
   "name": "python",
   "nbconvert_exporter": "python",
   "pygments_lexer": "ipython3",
   "version": "3.9.12"
  }
 },
 "nbformat": 4,
 "nbformat_minor": 5
}
